{
 "cells": [
  {
   "cell_type": "markdown",
   "metadata": {},
   "source": [
    "# Лабораторная работа 6"
   ]
  },
  {
   "cell_type": "markdown",
   "metadata": {},
   "source": [
    " ## 1. Построить интерполяционный многочлен Лагранжа. Вычичслить L4(x1 + x2). Построить график многочлена Лагранжа"
   ]
  },
  {
   "cell_type": "code",
   "execution_count": 6,
   "metadata": {},
   "outputs": [
    {
     "data": {
      "image/png": "[encoded data removed]",
      "text/latex": [
       "$\\displaystyle \\frac{y_{0} \\left(x - x_{1}\\right) \\left(x - x_{2}\\right) \\left(x - x_{3}\\right) \\left(x - x_{4}\\right) \\left(x - x_{5}\\right)}{\\left(x_{0} - x_{1}\\right) \\left(x_{0} - x_{2}\\right) \\left(x_{0} - x_{3}\\right) \\left(x_{0} - x_{4}\\right) \\left(x_{0} - x_{5}\\right)} + \\frac{y_{1} \\left(x - x_{0}\\right) \\left(x - x_{2}\\right) \\left(x - x_{3}\\right) \\left(x - x_{4}\\right) \\left(x - x_{5}\\right)}{\\left(- x_{0} + x_{1}\\right) \\left(x_{1} - x_{2}\\right) \\left(x_{1} - x_{3}\\right) \\left(x_{1} - x_{4}\\right) \\left(x_{1} - x_{5}\\right)} + \\frac{y_{2} \\left(x - x_{0}\\right) \\left(x - x_{1}\\right) \\left(x - x_{3}\\right) \\left(x - x_{4}\\right) \\left(x - x_{5}\\right)}{\\left(- x_{0} + x_{2}\\right) \\left(- x_{1} + x_{2}\\right) \\left(x_{2} - x_{3}\\right) \\left(x_{2} - x_{4}\\right) \\left(x_{2} - x_{5}\\right)} + \\frac{y_{3} \\left(x - x_{0}\\right) \\left(x - x_{1}\\right) \\left(x - x_{2}\\right) \\left(x - x_{4}\\right) \\left(x - x_{5}\\right)}{\\left(- x_{0} + x_{3}\\right) \\left(- x_{1} + x_{3}\\right) \\left(- x_{2} + x_{3}\\right) \\left(x_{3} - x_{4}\\right) \\left(x_{3} - x_{5}\\right)} + \\frac{y_{4} \\left(x - x_{0}\\right) \\left(x - x_{1}\\right) \\left(x - x_{2}\\right) \\left(x - x_{3}\\right) \\left(x - x_{5}\\right)}{\\left(- x_{0} + x_{4}\\right) \\left(- x_{1} + x_{4}\\right) \\left(- x_{2} + x_{4}\\right) \\left(- x_{3} + x_{4}\\right) \\left(x_{4} - x_{5}\\right)} + \\frac{y_{5} \\left(x - x_{0}\\right) \\left(x - x_{1}\\right) \\left(x - x_{2}\\right) \\left(x - x_{3}\\right) \\left(x - x_{4}\\right)}{\\left(- x_{0} + x_{5}\\right) \\left(- x_{1} + x_{5}\\right) \\left(- x_{2} + x_{5}\\right) \\left(- x_{3} + x_{5}\\right) \\left(- x_{4} + x_{5}\\right)}$"
      ],
      "text/plain": [
       " y₀⋅(x - x₁)⋅(x - x₂)⋅(x - x₃)⋅(x - x₄)⋅(x - x₅)     y₁⋅(x - x₀)⋅(x - x₂)⋅(x -\n",
       "───────────────────────────────────────────────── + ──────────────────────────\n",
       "(x₀ - x₁)⋅(x₀ - x₂)⋅(x₀ - x₃)⋅(x₀ - x₄)⋅(x₀ - x₅)   (-x₀ + x₁)⋅(x₁ - x₂)⋅(x₁ -\n",
       "\n",
       " x₃)⋅(x - x₄)⋅(x - x₅)       y₂⋅(x - x₀)⋅(x - x₁)⋅(x - x₃)⋅(x - x₄)⋅(x - x₅)  \n",
       "──────────────────────── + ───────────────────────────────────────────────────\n",
       " x₃)⋅(x₁ - x₄)⋅(x₁ - x₅)   (-x₀ + x₂)⋅(-x₁ + x₂)⋅(x₂ - x₃)⋅(x₂ - x₄)⋅(x₂ - x₅)\n",
       "\n",
       "     y₃⋅(x - x₀)⋅(x - x₁)⋅(x - x₂)⋅(x - x₄)⋅(x - x₅)         y₄⋅(x - x₀)⋅(x - \n",
       " + ──────────────────────────────────────────────────── + ────────────────────\n",
       "   (-x₀ + x₃)⋅(-x₁ + x₃)⋅(-x₂ + x₃)⋅(x₃ - x₄)⋅(x₃ - x₅)   (-x₀ + x₄)⋅(-x₁ + x₄\n",
       "\n",
       "x₁)⋅(x - x₂)⋅(x - x₃)⋅(x - x₅)         y₅⋅(x - x₀)⋅(x - x₁)⋅(x - x₂)⋅(x - x₃)⋅\n",
       "───────────────────────────────── + ──────────────────────────────────────────\n",
       ")⋅(-x₂ + x₄)⋅(-x₃ + x₄)⋅(x₄ - x₅)   (-x₀ + x₅)⋅(-x₁ + x₅)⋅(-x₂ + x₅)⋅(-x₃ + x₅\n",
       "\n",
       "(x - x₄)    \n",
       "────────────\n",
       ")⋅(-x₄ + x₅)"
      ]
     },
     "execution_count": 6,
     "metadata": {},
     "output_type": "execute_result"
    }
   ],
   "source": [
    "import numpy as np\n",
    "from sympy import *\n",
    "\n",
    "array = np.array([[0.172, 0.567, 1.113, 2.119, 2.769, 3.5],[-7.057, -5.703, -0.132, 1.423, 2.832, 1.5]])\n",
    "\n",
    "\n",
    "x_val = symbols('x x0 x1 x2 x3 x4 x5')\n",
    "y_val = symbols('y0 y1 y2 y3 y4 y5') \n",
    "\n",
    "expression = 0\n",
    "\n",
    "index = 1\n",
    "\n",
    "for y in y_val:\n",
    "    temp_y = y\n",
    "    x = x_val[0]\n",
    "    x_next = x_val[index]\n",
    "    \n",
    "    for x_t in x_val:\n",
    "        if (x_t == x_val[0] or x_t == x_next):\n",
    "            continue\n",
    "        temp_y *= (x - x_t)\n",
    "    \n",
    "    for x_t in x_val:\n",
    "        if (x_t == x_val[0] or x_t == x_next):\n",
    "            continue\n",
    "        temp_y /= (x_next - x_t)\n",
    "    \n",
    "    index += 1\n",
    "    expression += temp_y\n",
    "\n",
    "init_printing()\n",
    "expression"
   ]
  },
  {
   "cell_type": "markdown",
   "metadata": {},
   "source": [
    "### Вычислим интерполяционный многочлен Лагранжа"
   ]
  },
  {
   "cell_type": "code",
   "execution_count": 7,
   "metadata": {},
   "outputs": [
    {
     "data": {
      "image/png": "[encoded data removed]",
      "text/latex": [
       "$\\displaystyle - 1.48935498979102 x^{5} + 13.6066356349658 x^{4} - 44.3248311395392 x^{3} + 59.6858229645746 x^{2} - 24.1057406385747 x - 4.46269790103843$"
      ],
      "text/plain": [
       "                    5                     4                     3             \n",
       "- 1.48935498979102⋅x  + 13.6066356349658⋅x  - 44.3248311395392⋅x  + 59.6858229\n",
       "\n",
       "        2                                        \n",
       "645746⋅x  - 24.1057406385747⋅x - 4.46269790103843"
      ]
     },
     "execution_count": 7,
     "metadata": {},
     "output_type": "execute_result"
    }
   ],
   "source": [
    "expression2 = expression\n",
    "for i in range(0, len(y_val)):\n",
    "    expression = expression.subs(x_val[i + 1], array[0][i]).subs(y_val[i], array[1][i])\n",
    "    \n",
    "\n",
    "simplify(expression)"
   ]
  },
  {
   "cell_type": "markdown",
   "metadata": {},
   "source": [
    "### L4(x1 + x2)"
   ]
  },
  {
   "cell_type": "code",
   "execution_count": 8,
   "metadata": {},
   "outputs": [
    {
     "data": {
      "image/png": "[encoded data removed]",
      "text/latex": [
       "$\\displaystyle -3.8400338004811$"
      ],
      "text/plain": [
       "-3.84003380048110"
      ]
     },
     "execution_count": 8,
     "metadata": {},
     "output_type": "execute_result"
    }
   ],
   "source": [
    "expression2 = expression2.subs(x_val[0], x_val[1] +  x_val[2])\n",
    "\n",
    "for i in range(0, len(y_val)):\n",
    "    expression2 = expression2.subs(x_val[i + 1], array[0][i]).subs(y_val[i], array[1][i])\n",
    "    \n",
    "\n",
    "expression2"
   ]
  },
  {
   "cell_type": "markdown",
   "metadata": {},
   "source": [
    "### График"
   ]
  },
  {
   "cell_type": "code",
   "execution_count": 29,
   "metadata": {
    "scrolled": true
   },
   "outputs": [
    {
     "data": {
      "image/png": "[encoded data removed]",
      "text/plain": [
       "<Figure size 432x288 with 1 Axes>"
      ]
     },
     "metadata": {
      "needs_background": "light"
     },
     "output_type": "display_data"
    }
   ],
   "source": [
    "y = symbols('y')\n",
    "p1 = plot_implicit(Eq(expression, y), (x, -3, 6), (y, -10, 15))"
   ]
  },
  {
   "cell_type": "markdown",
   "metadata": {},
   "source": [
    "## 2. Построить таблиц конечных и разделенных членов"
   ]
  },
  {
   "cell_type": "code",
   "execution_count": 10,
   "metadata": {},
   "outputs": [
    {
     "data": {
      "text/html": [
       "<div>\n",
       "<style scoped>\n",
       "    .dataframe tbody tr th:only-of-type {\n",
       "        vertical-align: middle;\n",
       "    }\n",
       "\n",
       "    .dataframe tbody tr th {\n",
       "        vertical-align: top;\n",
       "    }\n",
       "\n",
       "    .dataframe thead th {\n",
       "        text-align: right;\n",
       "    }\n",
       "</style>\n",
       "<table border=\"1\" class=\"dataframe\">\n",
       "  <thead>\n",
       "    <tr style=\"text-align: right;\">\n",
       "      <th></th>\n",
       "      <th>Xk</th>\n",
       "      <th>Yk</th>\n",
       "      <th>ΔYk</th>\n",
       "      <th>Δ^2Yk</th>\n",
       "      <th>Δ^3Yk</th>\n",
       "      <th>Δ^4Yk</th>\n",
       "    </tr>\n",
       "  </thead>\n",
       "  <tbody>\n",
       "    <tr>\n",
       "      <th>0</th>\n",
       "      <td>0.172</td>\n",
       "      <td>-7.057</td>\n",
       "      <td>1.354</td>\n",
       "      <td>4.217</td>\n",
       "      <td>-8.233</td>\n",
       "      <td>12.103</td>\n",
       "    </tr>\n",
       "    <tr>\n",
       "      <th>1</th>\n",
       "      <td>0.567</td>\n",
       "      <td>-5.703</td>\n",
       "      <td>5.571</td>\n",
       "      <td>-4.016</td>\n",
       "      <td>3.87</td>\n",
       "      <td>-6.465</td>\n",
       "    </tr>\n",
       "    <tr>\n",
       "      <th>2</th>\n",
       "      <td>1.113</td>\n",
       "      <td>-0.132</td>\n",
       "      <td>1.555</td>\n",
       "      <td>-0.146</td>\n",
       "      <td>-2.595</td>\n",
       "      <td>-</td>\n",
       "    </tr>\n",
       "    <tr>\n",
       "      <th>3</th>\n",
       "      <td>2.119</td>\n",
       "      <td>1.423</td>\n",
       "      <td>1.409</td>\n",
       "      <td>-2.741</td>\n",
       "      <td>-</td>\n",
       "      <td>-</td>\n",
       "    </tr>\n",
       "    <tr>\n",
       "      <th>4</th>\n",
       "      <td>2.769</td>\n",
       "      <td>2.832</td>\n",
       "      <td>-1.332</td>\n",
       "      <td>-</td>\n",
       "      <td>-</td>\n",
       "      <td>-</td>\n",
       "    </tr>\n",
       "    <tr>\n",
       "      <th>5</th>\n",
       "      <td>3.500</td>\n",
       "      <td>1.500</td>\n",
       "      <td>-</td>\n",
       "      <td>-</td>\n",
       "      <td>-</td>\n",
       "      <td>-</td>\n",
       "    </tr>\n",
       "  </tbody>\n",
       "</table>\n",
       "</div>"
      ],
      "text/plain": [
       "      Xk     Yk    ΔYk  Δ^2Yk  Δ^3Yk   Δ^4Yk\n",
       "0  0.172 -7.057  1.354  4.217 -8.233  12.103\n",
       "1  0.567 -5.703  5.571 -4.016   3.87  -6.465\n",
       "2  1.113 -0.132  1.555 -0.146 -2.595       -\n",
       "3  2.119  1.423  1.409 -2.741      -       -\n",
       "4  2.769  2.832 -1.332      -      -       -\n",
       "5  3.500  1.500      -      -      -       -"
      ]
     },
     "execution_count": 10,
     "metadata": {},
     "output_type": "execute_result"
    }
   ],
   "source": [
    "import pandas as pd\n",
    "\n",
    "\n",
    "delta_y = ['-'] * 6\n",
    "delta2_y = ['-'] * 6\n",
    "delta3_y = ['-'] * 6\n",
    "delta4_y = ['-'] * 6\n",
    "\n",
    "for i in range(0, len(array[1]) - 1):\n",
    "    delta_y[i] = (array[1][i + 1] - array[1][i])\n",
    "\n",
    "for i in range(0, len(delta_y) - 2):\n",
    "    delta2_y[i] = (delta_y[i + 1] - delta_y[i])\n",
    "\n",
    "for i in range(0, len(delta2_y) - 3):\n",
    "    delta3_y[i] = (delta2_y[i + 1] - delta2_y[i])\n",
    "\n",
    "for i in range(0, len(delta3_y) - 4):\n",
    "    delta4_y[i] = (delta3_y[i + 1] - delta3_y[i])\n",
    "\n",
    "    \n",
    "d = {'Xk': array[0], 'Yk': array[1], \n",
    "     'ΔYk':delta_y, \n",
    "     'Δ^2Yk': delta2_y, \n",
    "     'Δ^3Yk': delta3_y, \n",
    "     'Δ^4Yk': delta4_y}\n",
    "\n",
    "df = pd.DataFrame(data=d)\n",
    "\n",
    "df"
   ]
  },
  {
   "cell_type": "markdown",
   "metadata": {},
   "source": [
    "### Таблица разделенных членов"
   ]
  },
  {
   "cell_type": "code",
   "execution_count": 11,
   "metadata": {},
   "outputs": [
    {
     "data": {
      "text/html": [
       "<div>\n",
       "<style scoped>\n",
       "    .dataframe tbody tr th:only-of-type {\n",
       "        vertical-align: middle;\n",
       "    }\n",
       "\n",
       "    .dataframe tbody tr th {\n",
       "        vertical-align: top;\n",
       "    }\n",
       "\n",
       "    .dataframe thead th {\n",
       "        text-align: right;\n",
       "    }\n",
       "</style>\n",
       "<table border=\"1\" class=\"dataframe\">\n",
       "  <thead>\n",
       "    <tr style=\"text-align: right;\">\n",
       "      <th></th>\n",
       "      <th>Xk</th>\n",
       "      <th>Yk</th>\n",
       "      <th>1-го порядка</th>\n",
       "      <th>2-го порядка</th>\n",
       "      <th>3-го порядка</th>\n",
       "      <th>4-го порядка</th>\n",
       "      <th>5-го порядка</th>\n",
       "    </tr>\n",
       "  </thead>\n",
       "  <tbody>\n",
       "    <tr>\n",
       "      <th>0</th>\n",
       "      <td>0.172</td>\n",
       "      <td>-7.057</td>\n",
       "      <td>3.42785</td>\n",
       "      <td>7.20026</td>\n",
       "      <td>-6.56322</td>\n",
       "      <td>3.56838</td>\n",
       "      <td>-1.48935</td>\n",
       "    </tr>\n",
       "    <tr>\n",
       "      <th>1</th>\n",
       "      <td>0.567</td>\n",
       "      <td>-5.703</td>\n",
       "      <td>10.2033</td>\n",
       "      <td>-5.57833</td>\n",
       "      <td>2.70387</td>\n",
       "      <td>-1.38819</td>\n",
       "      <td>-</td>\n",
       "    </tr>\n",
       "    <tr>\n",
       "      <th>2</th>\n",
       "      <td>1.113</td>\n",
       "      <td>-0.132</td>\n",
       "      <td>1.54573</td>\n",
       "      <td>0.375584</td>\n",
       "      <td>-1.3677</td>\n",
       "      <td>-</td>\n",
       "      <td>-</td>\n",
       "    </tr>\n",
       "    <tr>\n",
       "      <th>3</th>\n",
       "      <td>2.119</td>\n",
       "      <td>1.423</td>\n",
       "      <td>2.16769</td>\n",
       "      <td>-2.8891</td>\n",
       "      <td>-</td>\n",
       "      <td>-</td>\n",
       "      <td>-</td>\n",
       "    </tr>\n",
       "    <tr>\n",
       "      <th>4</th>\n",
       "      <td>2.769</td>\n",
       "      <td>2.832</td>\n",
       "      <td>-1.82216</td>\n",
       "      <td>-</td>\n",
       "      <td>-</td>\n",
       "      <td>-</td>\n",
       "      <td>-</td>\n",
       "    </tr>\n",
       "    <tr>\n",
       "      <th>5</th>\n",
       "      <td>3.500</td>\n",
       "      <td>1.500</td>\n",
       "      <td>-</td>\n",
       "      <td>-</td>\n",
       "      <td>-</td>\n",
       "      <td>-</td>\n",
       "      <td>-</td>\n",
       "    </tr>\n",
       "  </tbody>\n",
       "</table>\n",
       "</div>"
      ],
      "text/plain": [
       "      Xk     Yk 1-го порядка 2-го порядка 3-го порядка 4-го порядка  \\\n",
       "0  0.172 -7.057      3.42785      7.20026     -6.56322      3.56838   \n",
       "1  0.567 -5.703      10.2033     -5.57833      2.70387     -1.38819   \n",
       "2  1.113 -0.132      1.54573     0.375584      -1.3677            -   \n",
       "3  2.119  1.423      2.16769      -2.8891            -            -   \n",
       "4  2.769  2.832     -1.82216            -            -            -   \n",
       "5  3.500  1.500            -            -            -            -   \n",
       "\n",
       "  5-го порядка  \n",
       "0     -1.48935  \n",
       "1            -  \n",
       "2            -  \n",
       "3            -  \n",
       "4            -  \n",
       "5            -  "
      ]
     },
     "execution_count": 11,
     "metadata": {},
     "output_type": "execute_result"
    }
   ],
   "source": [
    "yxx = ['-'] * 6\n",
    "yxx2 = ['-'] * 6\n",
    "yxx3 = ['-'] * 6\n",
    "yxx4 = ['-'] * 6\n",
    "yxx5 = ['-'] * 6\n",
    "\n",
    "for i in range(0, len(array[1]) - 1):\n",
    "    yxx[i] = (array[1][i + 1] - array[1][i]) / (array[0][i + 1] - array[0][i]) \n",
    "\n",
    "for i in range(0, len(array[1]) - 2):\n",
    "    yxx2[i] = (yxx[i + 1] - yxx[i])/ (array[0][i + 2] - array[0][i])\n",
    "\n",
    "for i in range(0, len(array[1]) - 3):\n",
    "    yxx3[i] = (yxx2[i + 1] - yxx2[i])/ (array[0][i + 3] - array[0][i])\n",
    "\n",
    "for i in range(0, len(array[1]) - 4):\n",
    "    yxx4[i] = (yxx3[i + 1] - yxx3[i])/ (array[0][i + 4] - array[0][i])\n",
    "\n",
    "\n",
    "for i in range(0, len(array[1]) - 5):\n",
    "    yxx5[i] = (yxx4[i + 1] - yxx4[i])/ (array[0][i + 5] - array[0][i])\n",
    "\n",
    "    \n",
    "d = {'Xk': array[0], 'Yk': array[1],  \n",
    "     '1-го порядка': yxx, \n",
    "     '2-го порядка': yxx2, \n",
    "     '3-го порядка': yxx3,\n",
    "     '4-го порядка': yxx4,\n",
    "     '5-го порядка': yxx5}\n",
    "\n",
    "df = pd.DataFrame(data=d)\n",
    "\n",
    "df"
   ]
  },
  {
   "cell_type": "markdown",
   "metadata": {},
   "source": [
    "## 3. Построить полином Ньютона и вычислить для него значение N4(x1+x2). Построить график многочлена ньютона"
   ]
  },
  {
   "cell_type": "code",
   "execution_count": 12,
   "metadata": {},
   "outputs": [
    {
     "data": {
      "image/png": "[encoded data removed]",
      "text/latex": [
       "$\\displaystyle 3.42784810126582 x - 3.42784810126582 x_{0} + y_{0} + \\left(- 6.56322344937275 x + 6.56322344937275 x_{0}\\right) \\left(x - x_{1}\\right) \\left(x - x_{2}\\right) + \\left(- 1.48935498979102 x + 1.48935498979102 x_{0}\\right) \\left(x - x_{1}\\right) \\left(x - x_{2}\\right) \\left(x - x_{3}\\right) \\left(x - x_{4}\\right) + \\left(x - x_{1}\\right) \\left(x - x_{2}\\right) \\left(x - x_{3}\\right) \\left(3.56838300377432 x - 3.56838300377432 x_{0}\\right) + \\left(x - x_{1}\\right) \\left(7.20026418919328 x - 7.20026418919328 x_{0}\\right)$"
      ],
      "text/plain": [
       "3.42784810126582⋅x - 3.42784810126582⋅x₀ + y₀ + (-6.56322344937275⋅x + 6.56322\n",
       "344937275⋅x₀)⋅(x - x₁)⋅(x - x₂) + (-1.48935498979102⋅x + 1.48935498979102⋅x₀)⋅\n",
       "(x - x₁)⋅(x - x₂)⋅(x - x₃)⋅(x - x₄) + (x - x₁)⋅(x - x₂)⋅(x - x₃)⋅(3.5683830037\n",
       "7432⋅x - 3.56838300377432⋅x₀) + (x - x₁)⋅(7.20026418919328⋅x - 7.2002641891932\n",
       "8⋅x₀)"
      ]
     },
     "execution_count": 12,
     "metadata": {},
     "output_type": "execute_result"
    }
   ],
   "source": [
    "expression3 = y_val[0]\n",
    "\n",
    "expression3 += yxx[0] * (x_val[0] - x_val[1])   \n",
    "expression3 += yxx2[0] * (x_val[0] - x_val[1]) * (x_val[0] - x_val[2])   \n",
    "\n",
    "expression3 += yxx3[0] * (x_val[0] - x_val[1]) * (x_val[0] - x_val[2]) * (x_val[0] - x_val[3])   \n",
    "\n",
    "expression3 += yxx4[0] * (x_val[0] - x_val[1]) * (x_val[0] - x_val[2]) * (x_val[0] - x_val[3]) * (x_val[0] - x_val[4])\n",
    "\n",
    "expression3 += yxx5[0] * (x_val[0] - x_val[1]) * (x_val[0] - x_val[2]) * (x_val[0] - x_val[3]) * (x_val[0] - x_val[4])\\\n",
    "                * (x_val[0] - x_val[5])\n",
    "\n",
    "\n",
    "expression3"
   ]
  },
  {
   "cell_type": "code",
   "execution_count": 13,
   "metadata": {},
   "outputs": [
    {
     "data": {
      "image/png": "[encoded data removed]",
      "text/latex": [
       "$\\displaystyle - 1.48935498979102 x^{5} + 13.6066356349658 x^{4} - 44.3248311395392 x^{3} + 59.6858229645746 x^{2} - 24.1057406385747 x - 4.46269790103844$"
      ],
      "text/plain": [
       "                    5                     4                     3             \n",
       "- 1.48935498979102⋅x  + 13.6066356349658⋅x  - 44.3248311395392⋅x  + 59.6858229\n",
       "\n",
       "        2                                        \n",
       "645746⋅x  - 24.1057406385747⋅x - 4.46269790103844"
      ]
     },
     "execution_count": 13,
     "metadata": {},
     "output_type": "execute_result"
    }
   ],
   "source": [
    "expression4 = expression3\n",
    "for i in range(0, len(y_val)):\n",
    "    expression3 = expression3.subs(x_val[i + 1], array[0][i]).subs(y_val[i], array[1][i])\n",
    "    \n",
    "\n",
    "simplify(expression3)"
   ]
  },
  {
   "cell_type": "markdown",
   "metadata": {},
   "source": [
    "### N4(x1+x2)"
   ]
  },
  {
   "cell_type": "code",
   "execution_count": 14,
   "metadata": {},
   "outputs": [
    {
     "data": {
      "image/png": "[encoded data removed]",
      "text/latex": [
       "$\\displaystyle -3.8400338004811$"
      ],
      "text/plain": [
       "-3.84003380048110"
      ]
     },
     "execution_count": 14,
     "metadata": {},
     "output_type": "execute_result"
    }
   ],
   "source": [
    "expression4 = expression4.subs(x_val[0], x_val[1] +  x_val[2])\n",
    "\n",
    "for i in range(0, len(y_val)):\n",
    "    expression4 = expression4.subs(x_val[i + 1], array[0][i]).subs(y_val[i], array[1][i])\n",
    "\n",
    "\n",
    "expression4"
   ]
  },
  {
   "cell_type": "code",
   "execution_count": 15,
   "metadata": {},
   "outputs": [
    {
     "data": {
      "image/png": "[encoded data removed]",
      "text/plain": [
       "<Figure size 432x288 with 1 Axes>"
      ]
     },
     "metadata": {
      "needs_background": "light"
     },
     "output_type": "display_data"
    }
   ],
   "source": [
    "y = symbols('y')\n",
    "p1 = plot_implicit(Eq(expression3, y), (x, -3, 6), (y, -10, 15))"
   ]
  },
  {
   "cell_type": "markdown",
   "metadata": {},
   "source": [
    "## 4. Построить интерполяционные сплайны кусочно-линейный и кусочно-квадратичный. Построить графики сплайнов "
   ]
  },
  {
   "cell_type": "code",
   "execution_count": 16,
   "metadata": {},
   "outputs": [
    {
     "name": "stdout",
     "output_type": "stream",
     "text": [
      "y = 3.4278481012658233 * x + -7.646589873417722\n",
      "y = 10.203296703296704 * x + -11.48826923076923\n",
      "y = 1.5457256461232602 * x + -1.8523926441351888\n",
      "y = 2.167692307692308 * x + -3.1703400000000004\n",
      "y = -1.8221614227086185 * x + 7.877564979480165\n"
     ]
    },
    {
     "data": {
      "image/png": "[encoded data removed]",
      "text/plain": [
       "<Figure size 432x288 with 1 Axes>"
      ]
     },
     "metadata": {
      "needs_background": "light"
     },
     "output_type": "display_data"
    }
   ],
   "source": [
    "from IPython.display import clear_output\n",
    "import matplotlib.pyplot as plt\n",
    "\n",
    "plot_linear()"
   ]
  },
  {
   "cell_type": "code",
   "execution_count": 25,
   "metadata": {},
   "outputs": [],
   "source": [
    "def plot_linear():\n",
    "    for i in range(0, len(array[1]) - 1):    \n",
    "        a1 = (array[1][i + 1] - array[1][i]) / (array[0][i + 1] - array[0][i])  \n",
    "        a0 = array[1][i] - a1 * array[0][i]\n",
    "\n",
    "        print('y = ' + str(a1) + ' * x + ' + str(a0))\n",
    "\n",
    "        x = np.linspace(array[0][i],array[0][i + 1])\n",
    "        plt.plot(x, a1 * x + a0)"
   ]
  },
  {
   "cell_type": "markdown",
   "metadata": {},
   "source": [
    "### Кусочно-квадратичный интерполяционный сплайн"
   ]
  },
  {
   "cell_type": "code",
   "execution_count": 28,
   "metadata": {},
   "outputs": [
    {
     "name": "stdout",
     "output_type": "stream",
     "text": [
      "y = -6.944391308630836 + -1.8931471345480126x + 7.200264189193284x^2\n",
      "y = -15.008592700241847 + 19.574894239412284x + -5.578331866735464x^2\n",
      "y = -0.9665983161898182 + 0.3318390216116909x + 0.3755837328315499x^2\n",
      "y = -20.122194200954716 + 16.289636575758728x + -2.8891048011592515x^2\n"
     ]
    },
    {
     "data": {
      "image/png": "[encoded data removed]",
      "text/plain": [
       "<Figure size 432x288 with 1 Axes>"
      ]
     },
     "metadata": {
      "needs_background": "light"
     },
     "output_type": "display_data"
    }
   ],
   "source": [
    "p1 = None \n",
    "\n",
    "X = array[0] \n",
    "Y = array[1]\n",
    "plot_square()"
   ]
  },
  {
   "cell_type": "code",
   "execution_count": 27,
   "metadata": {},
   "outputs": [],
   "source": [
    "def plot_square():\n",
    "    for i in range(0, len(array[1]) - 2):\n",
    "        a2 = (Y[i + 2] - Y[i]) / ((X[i + 2] - X[i]) * (X[i + 2] - X[i + 1])) - \\\n",
    "        ((Y[i + 1] - Y[i]) / ((X[i + 1] - X[i]) * (X[i + 2] - X[i + 1])))\n",
    "\n",
    "        a1 = (Y[i + 1] - Y[i]) / (X[i + 1] - X[i]) - a2 * (X[i + 1] + X[i])  \n",
    "        a0 = Y[i] - a1 * X[i] - a2 * (X[i])**2 \n",
    "\n",
    "\n",
    "        print('y = ' + str(a0) + ' + ' + str(a1) + 'x + ' + str(a2) + 'x^2')\n",
    "\n",
    "        x = np.linspace(X[i],X[i + 1])\n",
    "        plt.plot(x, a0 + a1 * x + a2 * x ** 2)"
   ]
  },
  {
   "cell_type": "markdown",
   "metadata": {},
   "source": [
    "### Кубический интерполяционный сплайн"
   ]
  },
  {
   "cell_type": "code",
   "execution_count": 26,
   "metadata": {},
   "outputs": [],
   "source": [
    "a = Y[1:]\n",
    "b = np.array([0.0 for i in range(0, len(X) - 1)])\n",
    "c = np.array([0.0 for i in range(0, len(X) - 1)])\n",
    "d = np.array([0.0 for i in range(0, len(X) - 1)])\n",
    "\n",
    "hk = np.array([X[i] - X[i - 1] for i in range(1, len(X))])\n",
    "lk = np.array([(Y[i] - Y[i - 1]) / hk[i - 1] for i in range(1, len(X))])"
   ]
  },
  {
   "cell_type": "code",
   "execution_count": 29,
   "metadata": {},
   "outputs": [
    {
     "data": {
      "image/png": "[encoded data removed]",
      "text/plain": [
       "<Figure size 432x288 with 1 Axes>"
      ]
     },
     "metadata": {
      "needs_background": "light"
     },
     "output_type": "display_data"
    }
   ],
   "source": [
    "de =  np.array([0.0 for i in range(0, len(X) - 2)])\n",
    "lambd =  np.array([0.0 for i in range(0, len(X) - 2)])\n",
    "\n",
    "de[0] = -0.5 * hk[1] / (hk[0] + hk[1])\n",
    "lambd[0] = 1.5 * (lk[1] - lk[0]) / (hk[0] + hk[1])\n",
    "\n",
    "for i in range(1, len(X) - 2):\n",
    "    de[i] = - hk[i + 1] / (2 * hk[i] + 2 * hk[i + 1] + hk[i] * de[i - 1])\n",
    "    lambd[i] = (2 * lk[i + 1] - 3 * lk[i] - hk[i] * lambd[i - 1]) /(2 * hk[i] + 2 * hk[i + 1] + hk[i] * de[i - 1])\n",
    "\n",
    "for i in range(len(X) - 3, -1, -1):\n",
    "    c[i] = de[i] * c[i + 1] + lambd[i]\n",
    "\n",
    "for i in range(len(X) - 2, -1, -1):\n",
    "    b[i] = lk[i]+ 2 / 3 * c[i] * hk[i] + 1 / 3 * hk[i] * c[i-1]\n",
    "    d[i] = (c[i] - c[i-1]) / (3 * hk[i])\n",
    "\n",
    "plot_cube()"
   ]
  },
  {
   "cell_type": "code",
   "execution_count": 28,
   "metadata": {},
   "outputs": [],
   "source": [
    "def plot_cube():\n",
    "    for i in range(0, len(X) - 1):\n",
    "        x = np.linspace(X[i], X[i + 1])\n",
    "        plt.plot(x, a[i] + b[i] * (x - X[i + 1]) + c[i] * (x - X[i + 1])**2 + d[i] * (x - X[i + 1])**3)"
   ]
  },
  {
   "cell_type": "markdown",
   "metadata": {},
   "source": [
    "## 6. На одном чертеже с графиком полиномов построить графики сплайнов"
   ]
  },
  {
   "cell_type": "code",
   "execution_count": 30,
   "metadata": {},
   "outputs": [],
   "source": [
    "def L_x(x):\n",
    "    return float(str(expression.subs(x_val[0], x)))\n",
    "\n",
    "def N_x(x):\n",
    "    return float(str(expression3.subs(x_val[0], x)))"
   ]
  },
  {
   "cell_type": "code",
   "execution_count": 31,
   "metadata": {
    "scrolled": false
   },
   "outputs": [
    {
     "name": "stdout",
     "output_type": "stream",
     "text": [
      "y = -6.944391308630836 + -1.8931471345480126x + 7.200264189193284x^2\n",
      "y = -15.008592700241847 + 19.574894239412284x + -5.578331866735464x^2\n",
      "y = -0.9665983161898182 + 0.3318390216116909x + 0.3755837328315499x^2\n",
      "y = -20.122194200954716 + 16.289636575758728x + -2.8891048011592515x^2\n",
      "y = 3.4278481012658233 * x + -7.646589873417722\n",
      "y = 10.203296703296704 * x + -11.48826923076923\n",
      "y = 1.5457256461232602 * x + -1.8523926441351888\n",
      "y = 2.167692307692308 * x + -3.1703400000000004\n",
      "y = -1.8221614227086185 * x + 7.877564979480165\n"
     ]
    },
    {
     "data": {
      "image/png": "[encoded data removed]",
      "text/plain": [
       "<Figure size 1080x720 with 1 Axes>"
      ]
     },
     "metadata": {
      "needs_background": "light"
     },
     "output_type": "display_data"
    }
   ],
   "source": [
    "_, fullPlot = plt.subplots(figsize=(15, 10))\n",
    "\n",
    "x2 = np.linspace(0, 3.5)\n",
    "y2 = [L_x(a) for a in x2]\n",
    "plt.plot(x2, y2)\n",
    "\n",
    "y2 = [N_x(a) for a in x2]\n",
    "\n",
    "plt.plot(x2, y2)\n",
    "\n",
    "plot_square()\n",
    "plot_cube()\n",
    "plot_linear()\n",
    "\n",
    "plt.scatter(X, Y)\n",
    "plt.legend(['Lagrange', 'Newton', 'Square Spline', 'Cubic spline', 'Linear spline'])\n",
    "plt.show()"
   ]
  }
 ],
 "metadata": {
  "kernelspec": {
   "display_name": "Python 3",
   "language": "python",
   "name": "python3"
  },
  "language_info": {
   "codemirror_mode": {
    "name": "ipython",
    "version": 3
   },
   "file_extension": ".py",
   "mimetype": "text/x-python",
   "name": "python",
   "nbconvert_exporter": "python",
   "pygments_lexer": "ipython3",
   "version": "3.7.3"
  }
 },
 "nbformat": 4,
 "nbformat_minor": 2
}
